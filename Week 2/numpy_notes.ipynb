{
 "cells": [
  {
   "cell_type": "markdown",
   "metadata": {},
   "source": [
    "# NUMPY"
   ]
  },
  {
   "cell_type": "code",
   "execution_count": 76,
   "metadata": {},
   "outputs": [],
   "source": [
    "import numpy as np"
   ]
  },
  {
   "cell_type": "code",
   "execution_count": 15,
   "metadata": {},
   "outputs": [
    {
     "name": "stdout",
     "output_type": "stream",
     "text": [
      "[1 2 0] [-3.   1.5  1. ]\n"
     ]
    }
   ],
   "source": [
    "#Creating Vectors\n",
    "\n",
    "a = np.array([1,2,0])\n",
    "b = np.array([-3,1.5,1])\n",
    "\n",
    "print(a,b)"
   ]
  },
  {
   "cell_type": "code",
   "execution_count": 8,
   "metadata": {},
   "outputs": [
    {
     "data": {
      "text/plain": [
       "array([[1, 0, 0],\n",
       "       [0, 2, 0],\n",
       "       [1, 0, 1]])"
      ]
     },
     "execution_count": 8,
     "metadata": {},
     "output_type": "execute_result"
    }
   ],
   "source": [
    "# For a matrix, each nested list is a row, and each index for nested list is a column element. \n",
    "\n",
    "C = np.array([\n",
    "    [1, 0, 0],\n",
    "    [0, 2, 0],\n",
    "    [1, 0, 1]\n",
    "])\n",
    "\n",
    "C"
   ]
  },
  {
   "cell_type": "code",
   "execution_count": 13,
   "metadata": {},
   "outputs": [
    {
     "name": "stdout",
     "output_type": "stream",
     "text": [
      "YEE\n"
     ]
    },
    {
     "name": "stdout",
     "output_type": "stream",
     "text": [
      "\u001b[1;31mCall signature:\u001b[0m  \u001b[0mnp\u001b[0m\u001b[1;33m.\u001b[0m\u001b[0mdot\u001b[0m\u001b[1;33m(\u001b[0m\u001b[1;33m*\u001b[0m\u001b[0margs\u001b[0m\u001b[1;33m,\u001b[0m \u001b[1;33m**\u001b[0m\u001b[0mkwargs\u001b[0m\u001b[1;33m)\u001b[0m\u001b[1;33m\u001b[0m\u001b[1;33m\u001b[0m\u001b[0m\n",
      "\u001b[1;31mType:\u001b[0m            _ArrayFunctionDispatcher\n",
      "\u001b[1;31mString form:\u001b[0m     <built-in function dot>\n",
      "\u001b[1;31mDocstring:\u001b[0m      \n",
      "dot(a, b, out=None)\n",
      "\n",
      "Dot product of two arrays. Specifically,\n",
      "\n",
      "- If both `a` and `b` are 1-D arrays, it is inner product of vectors\n",
      "  (without complex conjugation).\n",
      "\n",
      "- If both `a` and `b` are 2-D arrays, it is matrix multiplication,\n",
      "  but using :func:`matmul` or ``a @ b`` is preferred.\n",
      "\n",
      "- If either `a` or `b` is 0-D (scalar), it is equivalent to\n",
      "  :func:`multiply` and using ``numpy.multiply(a, b)`` or ``a * b`` is\n",
      "  preferred.\n",
      "\n",
      "- If `a` is an N-D array and `b` is a 1-D array, it is a sum product over\n",
      "  the last axis of `a` and `b`.\n",
      "\n",
      "- If `a` is an N-D array and `b` is an M-D array (where ``M>=2``), it is a\n",
      "  sum product over the last axis of `a` and the second-to-last axis of\n",
      "  `b`::\n",
      "\n",
      "    dot(a, b)[i,j,k,m] = sum(a[i,j,:] * b[k,:,m])\n",
      "\n",
      "It uses an optimized BLAS library when possible (see `numpy.linalg`).\n",
      "\n",
      "Parameters\n",
      "----------\n",
      "a : array_like\n",
      "    First argument.\n",
      "b : array_like\n",
      "    Second argument.\n",
      "out : ndarray, optional\n",
      "    Output argument. This must have the exact kind that would be returned\n",
      "    if it was not used. In particular, it must have the right type, must be\n",
      "    C-contiguous, and its dtype must be the dtype that would be returned\n",
      "    for `dot(a,b)`. This is a performance feature. Therefore, if these\n",
      "    conditions are not met, an exception is raised, instead of attempting\n",
      "    to be flexible.\n",
      "\n",
      "Returns\n",
      "-------\n",
      "output : ndarray\n",
      "    Returns the dot product of `a` and `b`.  If `a` and `b` are both\n",
      "    scalars or both 1-D arrays then a scalar is returned; otherwise\n",
      "    an array is returned.\n",
      "    If `out` is given, then it is returned.\n",
      "\n",
      "Raises\n",
      "------\n",
      "ValueError\n",
      "    If the last dimension of `a` is not the same size as\n",
      "    the second-to-last dimension of `b`.\n",
      "\n",
      "See Also\n",
      "--------\n",
      "vdot : Complex-conjugating dot product.\n",
      "tensordot : Sum products over arbitrary axes.\n",
      "einsum : Einstein summation convention.\n",
      "matmul : '@' operator as method with out parameter.\n",
      "linalg.multi_dot : Chained dot product.\n",
      "\n",
      "Examples\n",
      "--------\n",
      ">>> np.dot(3, 4)\n",
      "12\n",
      "\n",
      "Neither argument is complex-conjugated:\n",
      "\n",
      ">>> np.dot([2j, 3j], [2j, 3j])\n",
      "(-13+0j)\n",
      "\n",
      "For 2-D arrays it is the matrix product:\n",
      "\n",
      ">>> a = [[1, 0], [0, 1]]\n",
      ">>> b = [[4, 1], [2, 2]]\n",
      ">>> np.dot(a, b)\n",
      "array([[4, 1],\n",
      "       [2, 2]])\n",
      "\n",
      ">>> a = np.arange(3*4*5*6).reshape((3,4,5,6))\n",
      ">>> b = np.arange(3*4*5*6)[::-1].reshape((5,4,6,3))\n",
      ">>> np.dot(a, b)[2,3,2,1,2,2]\n",
      "499128\n",
      ">>> sum(a[2,3,2,:] * b[1,2,:,2])\n",
      "499128\n",
      "\u001b[1;31mClass docstring:\u001b[0m\n",
      "Class to wrap functions with checks for __array_function__ overrides.\n",
      "\n",
      "All arguments are required, and can only be passed by position.\n",
      "\n",
      "Parameters\n",
      "----------\n",
      "dispatcher : function or None\n",
      "    The dispatcher function that returns a single sequence-like object\n",
      "    of all arguments relevant.  It must have the same signature (except\n",
      "    the default values) as the actual implementation.\n",
      "    If ``None``, this is a ``like=`` dispatcher and the\n",
      "    ``_ArrayFunctionDispatcher`` must be called with ``like`` as the\n",
      "    first (additional and positional) argument.\n",
      "implementation : function\n",
      "    Function that implements the operation on NumPy arrays without\n",
      "    overrides.  Arguments passed calling the ``_ArrayFunctionDispatcher``\n",
      "    will be forwarded to this (and the ``dispatcher``) as if using\n",
      "    ``*args, **kwargs``.\n",
      "\n",
      "Attributes\n",
      "----------\n",
      "_implementation : function\n",
      "    The original implementation passed in."
     ]
    }
   ],
   "source": [
    "# Matrix vec product\n",
    "\n",
    "C @ a\n",
    "\n",
    "# @ is a wrapper for np.dot(C,a) method! (ampersand)\n",
    "\n",
    "if np.shape(C @ a) == np.shape(np.dot(C,a)):\n",
    "    print(\"YEE\")\n",
    "\n",
    "    # np.dot?\n",
    "\n",
    "# The @ really is just an inner product!!!\n",
    "\n",
    "#forms of dot method\n",
    "\n",
    "a.dot(b)\n",
    "np.dot(a,b)\n",
    "a @ b"
   ]
  },
  {
   "cell_type": "code",
   "execution_count": 20,
   "metadata": {},
   "outputs": [
    {
     "data": {
      "text/plain": [
       "array([ 2. , -1. ,  7.5])"
      ]
     },
     "execution_count": 20,
     "metadata": {},
     "output_type": "execute_result"
    }
   ],
   "source": [
    "# Cross product calculator\n",
    "\n",
    "np.cross(a,b)"
   ]
  },
  {
   "cell_type": "code",
   "execution_count": 42,
   "metadata": {},
   "outputs": [
    {
     "name": "stdout",
     "output_type": "stream",
     "text": [
      "[ 1.  1. -1.]\n",
      "[ 1.  1. -1.]\n",
      "Object `assert` not found.\n"
     ]
    }
   ],
   "source": [
    "# linalg is a submodule of numpy, replies on BLAS and LAPACK \n",
    "# Here, we use it so solve linear eqn Cx = a, solves for x\n",
    "\n",
    "x = np.linalg.solve(C, a) # ----> FASTER! \n",
    "\n",
    "x_inverse = np.linalg.inv(C) @ a\n",
    "print(x)\n",
    "print(x_inverse)\n",
    "\n",
    "# nb shape[0] is column index (i.e. M)\n",
    "#    shape[1] is row index (i.e. N)\n",
    "\n",
    "assert "
   ]
  },
  {
   "cell_type": "markdown",
   "metadata": {},
   "source": [
    "# PYTHON IN-BUILT OPTIMISATION"
   ]
  },
  {
   "cell_type": "code",
   "execution_count": 29,
   "metadata": {},
   "outputs": [
    {
     "name": "stdout",
     "output_type": "stream",
     "text": [
      "[0.5206426  0.73687632 0.74971394]\n",
      "[0.5206426  0.73687632 0.74971394]\n"
     ]
    }
   ],
   "source": [
    "\n",
    "def slow_matvec(matrix, vector):\n",
    "    assert matrix.shape[1] == vector.shape[0]  # here, assert tests if this line is true. if not, error. Here, making sure row of matrix\n",
    "                                         # equal to vector column dimension\n",
    "    result = []\n",
    "    for r in range(matrix.shape[0]):    \n",
    "        value = 0\n",
    "        for c in range(matrix.shape[1]):\n",
    "            value += matrix[r, c] * vector[c]\n",
    "        result.append(value)\n",
    "    return np.array(result)\n",
    "\n",
    "# Example of using this function\n",
    "matrix = np.random.rand(3, 3)\n",
    "vector = np.random.rand(3)\n",
    "print(slow_matvec(matrix, vector))\n",
    "print(matrix @ vector)\n"
   ]
  },
  {
   "cell_type": "code",
   "execution_count": 43,
   "metadata": {},
   "outputs": [
    {
     "name": "stdout",
     "output_type": "stream",
     "text": [
      "[0.62912604 0.34003024 0.71963908]\n",
      "[0.62912604 0.34003024 0.71963908]\n"
     ]
    }
   ],
   "source": [
    "# Optimisation \n",
    "\n",
    "\n",
    "def fast_matvec(matrix, vector):\n",
    "    assert matrix.shape[1] == vector.shape[0]\n",
    "    result = []\n",
    "    for r in range(matrix.shape[0]):\n",
    "        #value = 0\n",
    "        value = np.sum(matrix[r]*vector)\n",
    "\n",
    "       # got rid of nested loop\n",
    "       # for c in range(matrix.shape[1]):\n",
    "       # value += matrix[r, c] * vector[c]\n",
    "       \n",
    "        result.append(value)\n",
    "    return np.array(result)\n",
    "\n",
    "\n",
    "# Example of using this function\n",
    "matrix = np.random.rand(3, 3)\n",
    "vector = np.random.rand(3)\n",
    "print(fast_matvec(matrix, vector))\n",
    "print(matrix @ vector)"
   ]
  },
  {
   "cell_type": "code",
   "execution_count": 61,
   "metadata": {},
   "outputs": [],
   "source": [
    "def add(a,b):\n",
    "    return a + b \n",
    "\n",
    "assert add(1,1) == 2\n",
    "assert add(4,5) == 9\n",
    "\n",
    "# assert stops code from exe if line is not True! \n",
    "# Floats aren't exact, and so assert error can be tripped by float operations\n",
    "\n",
    "# isclose() says that if a number is within a defined tolerance then we accept the calc.FOR SCALARS\n",
    "\n",
    "assert np.isclose(100/3*30, 1000.0, rtol=1e-20)\n",
    "\n",
    "# allclose() does same as isclose() for arrays\n",
    "\n",
    "assert np.allclose(C, C+1e-1,rtol=1e-1)"
   ]
  },
  {
   "cell_type": "code",
   "execution_count": 54,
   "metadata": {},
   "outputs": [],
   "source": [
    "import numpy.testing as npt \n",
    "\n",
    "A = np.ones(shape=(4,4), dtype=np.float64)\n",
    "B = np.ones(shape=(4,4), dtype=np.float64)\n",
    "B[2,2] = 4"
   ]
  },
  {
   "cell_type": "code",
   "execution_count": 60,
   "metadata": {},
   "outputs": [],
   "source": [
    "npt.assert_almost_equal(A,A + 1e-1)\n",
    "\n",
    "#numpy.testing allows you to have an assert within a method, and also gives LOTS OF INFO for diagnosis"
   ]
  },
  {
   "cell_type": "code",
   "execution_count": 57,
   "metadata": {},
   "outputs": [],
   "source": [
    "npt.assert_almost_equal(matrix @ vector, fast_matvec(matrix,vector))"
   ]
  },
  {
   "cell_type": "markdown",
   "metadata": {},
   "source": [
    "# TIMING FUNCTIONS"
   ]
  },
  {
   "cell_type": "code",
   "execution_count": 65,
   "metadata": {},
   "outputs": [
    {
     "name": "stdout",
     "output_type": "stream",
     "text": [
      "0.010540206699981354\n"
     ]
    }
   ],
   "source": [
    "#TIMING A FUNCTION\n",
    "\n",
    "from timeit import timeit\n",
    "import time\n",
    "\n",
    "def f():\n",
    "    # contents of function here\n",
    "    time.sleep(0.01)\n",
    "    return 1+2\n",
    "\n",
    "t = timeit(f, number=1000)\n",
    "print(t/1000)"
   ]
  },
  {
   "cell_type": "code",
   "execution_count": 68,
   "metadata": {},
   "outputs": [
    {
     "name": "stdout",
     "output_type": "stream",
     "text": [
      "10.5 ms ± 40.2 μs per loop (mean ± std. dev. of 7 runs, 100 loops each)\n"
     ]
    },
    {
     "data": {
      "text/plain": [
       "[0.010514796000206843,\n",
       " 0.010536240999936126,\n",
       " 0.010469230000162498,\n",
       " 0.010507640999858268,\n",
       " 0.010480087000178172,\n",
       " 0.010599699000013061,\n",
       " 0.010538125999737531]"
      ]
     },
     "execution_count": 68,
     "metadata": {},
     "output_type": "execute_result"
    }
   ],
   "source": [
    "t = %timeit -o f() #handles the loop timing for you! % is magic commmand\n",
    "\n"
   ]
  },
  {
   "cell_type": "code",
   "execution_count": 79,
   "metadata": {},
   "outputs": [
    {
     "name": "stdout",
     "output_type": "stream",
     "text": [
      "2.08 ms ± 25.4 μs per loop (mean ± std. dev. of 7 runs, 100 loops each)\n",
      "301 μs ± 2.97 μs per loop (mean ± std. dev. of 7 runs, 1,000 loops each)\n",
      "[Slow] [N=100] Average Run time: 0.0020763018570973406\n",
      "[Fast] [N=100] Average Run Time: 0.0003008643428661994\n"
     ]
    }
   ],
   "source": [
    "matrix_size = [2,10,100]\n",
    "\n",
    "slow_times = []\n",
    "fast_times = []\n",
    "\n",
    "for n in matrix_size:\n",
    "    test_mat = np.random.rand(n,n)\n",
    "    test_vec = np.random.rand(n)\n",
    "\n",
    "t_slow = %timeit -o slow_matvec(test_mat,test_vec)  # using our previous matvec calculator function \n",
    "t_fast = %timeit -o fast_matvec(test_mat,test_vec)\n",
    "\n",
    "slow_times.append(t_slow.average)\n",
    "fast_times.append(t_fast.average)\n",
    "\n",
    "print(f\"[Slow] [N={n}] Average Run time: {t_slow.average}\")\n",
    "print(f\"[Fast] [N={n}] Average Run Time: {t_fast.average}\")"
   ]
  },
  {
   "cell_type": "markdown",
   "metadata": {},
   "source": [
    "# PLOTTING w/ MATPLOTLIB"
   ]
  },
  {
   "cell_type": "code",
   "execution_count": 77,
   "metadata": {},
   "outputs": [
    {
     "data": {
      "text/plain": [
       "<matplotlib.legend.Legend at 0x1f87138f200>"
      ]
     },
     "execution_count": 77,
     "metadata": {},
     "output_type": "execute_result"
    },
    {
     "data": {
      "image/png": "[encoded data removed]",
      "text/plain": [
       "<Figure size 640x480 with 1 Axes>"
      ]
     },
     "metadata": {},
     "output_type": "display_data"
    }
   ],
   "source": [
    "import matplotlib.pylab as plt\n",
    "import numpy as np\n",
    "\n",
    "import matplotlib.pylab as plt\n",
    "import numpy as np\n",
    "\n",
    "x = np.linspace(1, 3, 20)\n",
    "y0 = x\n",
    "y1 = x ** 2\n",
    "y2 = 3 * x ** 2\n",
    "\n",
    "plt.plot(x, y0, \"ro-\", label=r\"$y=\\sqrt{x}$\") # r in front of string tells it to ignore \\ etc.\n",
    "plt.plot(x, y1, \"g^-\", label=\"$y=x^2$\")\n",
    "plt.plot(x, y2, \"b--\", label=\"$y=3x^2$\")\n",
    "\n",
    "plt.xlabel(\"Values of x\")\n",
    "plt.ylabel(\"Values of y\")\n",
    "plt.xscale(\"log\")\n",
    "\n",
    "plt.legend() # creates a legend, can define labels in here but keep to doing it in .plot!"
   ]
  },
  {
   "cell_type": "code",
   "execution_count": 81,
   "metadata": {},
   "outputs": [
    {
     "ename": "ValueError",
     "evalue": "x and y must have same first dimension, but have shapes (3,) and (1,)",
     "output_type": "error",
     "traceback": [
      "\u001b[1;31m---------------------------------------------------------------------------\u001b[0m",
      "\u001b[1;31mValueError\u001b[0m                                Traceback (most recent call last)",
      "Cell \u001b[1;32mIn[81], line 1\u001b[0m\n\u001b[1;32m----> 1\u001b[0m plt\u001b[38;5;241m.\u001b[39mloglog(matrix_size, slow_times)\n\u001b[0;32m      2\u001b[0m plt\u001b[38;5;241m.\u001b[39mloglog(matrix_size, fast_times)\n\u001b[0;32m      4\u001b[0m plt\u001b[38;5;241m.\u001b[39mxlabel(\u001b[38;5;124m\"\u001b[39m\u001b[38;5;124mMatrix sizes\u001b[39m\u001b[38;5;124m\"\u001b[39m)\n",
      "File \u001b[1;32mc:\\Users\\Rowan\\anaconda3\\envs\\phas0102\\Lib\\site-packages\\matplotlib\\pyplot.py:3602\u001b[0m, in \u001b[0;36mloglog\u001b[1;34m(*args, **kwargs)\u001b[0m\n\u001b[0;32m   3600\u001b[0m \u001b[38;5;129m@_copy_docstring_and_deprecators\u001b[39m(Axes\u001b[38;5;241m.\u001b[39mloglog)\n\u001b[0;32m   3601\u001b[0m \u001b[38;5;28;01mdef\u001b[39;00m \u001b[38;5;21mloglog\u001b[39m(\u001b[38;5;241m*\u001b[39margs, \u001b[38;5;241m*\u001b[39m\u001b[38;5;241m*\u001b[39mkwargs) \u001b[38;5;241m-\u001b[39m\u001b[38;5;241m>\u001b[39m \u001b[38;5;28mlist\u001b[39m[Line2D]:\n\u001b[1;32m-> 3602\u001b[0m     \u001b[38;5;28;01mreturn\u001b[39;00m gca()\u001b[38;5;241m.\u001b[39mloglog(\u001b[38;5;241m*\u001b[39margs, \u001b[38;5;241m*\u001b[39m\u001b[38;5;241m*\u001b[39mkwargs)\n",
      "File \u001b[1;32mc:\\Users\\Rowan\\anaconda3\\envs\\phas0102\\Lib\\site-packages\\matplotlib\\axes\\_axes.py:1920\u001b[0m, in \u001b[0;36mAxes.loglog\u001b[1;34m(self, *args, **kwargs)\u001b[0m\n\u001b[0;32m   1916\u001b[0m dy \u001b[38;5;241m=\u001b[39m {k: v \u001b[38;5;28;01mfor\u001b[39;00m k, v \u001b[38;5;129;01min\u001b[39;00m kwargs\u001b[38;5;241m.\u001b[39mitems()\n\u001b[0;32m   1917\u001b[0m       \u001b[38;5;28;01mif\u001b[39;00m k \u001b[38;5;129;01min\u001b[39;00m [\u001b[38;5;124m'\u001b[39m\u001b[38;5;124mbase\u001b[39m\u001b[38;5;124m'\u001b[39m, \u001b[38;5;124m'\u001b[39m\u001b[38;5;124msubs\u001b[39m\u001b[38;5;124m'\u001b[39m, \u001b[38;5;124m'\u001b[39m\u001b[38;5;124mnonpositive\u001b[39m\u001b[38;5;124m'\u001b[39m,\n\u001b[0;32m   1918\u001b[0m                \u001b[38;5;124m'\u001b[39m\u001b[38;5;124mbasey\u001b[39m\u001b[38;5;124m'\u001b[39m, \u001b[38;5;124m'\u001b[39m\u001b[38;5;124msubsy\u001b[39m\u001b[38;5;124m'\u001b[39m, \u001b[38;5;124m'\u001b[39m\u001b[38;5;124mnonposy\u001b[39m\u001b[38;5;124m'\u001b[39m]}\n\u001b[0;32m   1919\u001b[0m \u001b[38;5;28mself\u001b[39m\u001b[38;5;241m.\u001b[39mset_yscale(\u001b[38;5;124m'\u001b[39m\u001b[38;5;124mlog\u001b[39m\u001b[38;5;124m'\u001b[39m, \u001b[38;5;241m*\u001b[39m\u001b[38;5;241m*\u001b[39mdy)\n\u001b[1;32m-> 1920\u001b[0m \u001b[38;5;28;01mreturn\u001b[39;00m \u001b[38;5;28mself\u001b[39m\u001b[38;5;241m.\u001b[39mplot(\n\u001b[0;32m   1921\u001b[0m     \u001b[38;5;241m*\u001b[39margs, \u001b[38;5;241m*\u001b[39m\u001b[38;5;241m*\u001b[39m{k: v \u001b[38;5;28;01mfor\u001b[39;00m k, v \u001b[38;5;129;01min\u001b[39;00m kwargs\u001b[38;5;241m.\u001b[39mitems() \u001b[38;5;28;01mif\u001b[39;00m k \u001b[38;5;129;01mnot\u001b[39;00m \u001b[38;5;129;01min\u001b[39;00m {\u001b[38;5;241m*\u001b[39mdx, \u001b[38;5;241m*\u001b[39mdy}})\n",
      "File \u001b[1;32mc:\\Users\\Rowan\\anaconda3\\envs\\phas0102\\Lib\\site-packages\\matplotlib\\axes\\_axes.py:1779\u001b[0m, in \u001b[0;36mAxes.plot\u001b[1;34m(self, scalex, scaley, data, *args, **kwargs)\u001b[0m\n\u001b[0;32m   1536\u001b[0m \u001b[38;5;250m\u001b[39m\u001b[38;5;124;03m\"\"\"\u001b[39;00m\n\u001b[0;32m   1537\u001b[0m \u001b[38;5;124;03mPlot y versus x as lines and/or markers.\u001b[39;00m\n\u001b[0;32m   1538\u001b[0m \n\u001b[1;32m   (...)\u001b[0m\n\u001b[0;32m   1776\u001b[0m \u001b[38;5;124;03m(``'green'``) or hex strings (``'#008000'``).\u001b[39;00m\n\u001b[0;32m   1777\u001b[0m \u001b[38;5;124;03m\"\"\"\u001b[39;00m\n\u001b[0;32m   1778\u001b[0m kwargs \u001b[38;5;241m=\u001b[39m cbook\u001b[38;5;241m.\u001b[39mnormalize_kwargs(kwargs, mlines\u001b[38;5;241m.\u001b[39mLine2D)\n\u001b[1;32m-> 1779\u001b[0m lines \u001b[38;5;241m=\u001b[39m [\u001b[38;5;241m*\u001b[39m\u001b[38;5;28mself\u001b[39m\u001b[38;5;241m.\u001b[39m_get_lines(\u001b[38;5;28mself\u001b[39m, \u001b[38;5;241m*\u001b[39margs, data\u001b[38;5;241m=\u001b[39mdata, \u001b[38;5;241m*\u001b[39m\u001b[38;5;241m*\u001b[39mkwargs)]\n\u001b[0;32m   1780\u001b[0m \u001b[38;5;28;01mfor\u001b[39;00m line \u001b[38;5;129;01min\u001b[39;00m lines:\n\u001b[0;32m   1781\u001b[0m     \u001b[38;5;28mself\u001b[39m\u001b[38;5;241m.\u001b[39madd_line(line)\n",
      "File \u001b[1;32mc:\\Users\\Rowan\\anaconda3\\envs\\phas0102\\Lib\\site-packages\\matplotlib\\axes\\_base.py:296\u001b[0m, in \u001b[0;36m_process_plot_var_args.__call__\u001b[1;34m(self, axes, data, *args, **kwargs)\u001b[0m\n\u001b[0;32m    294\u001b[0m     this \u001b[38;5;241m+\u001b[39m\u001b[38;5;241m=\u001b[39m args[\u001b[38;5;241m0\u001b[39m],\n\u001b[0;32m    295\u001b[0m     args \u001b[38;5;241m=\u001b[39m args[\u001b[38;5;241m1\u001b[39m:]\n\u001b[1;32m--> 296\u001b[0m \u001b[38;5;28;01myield from\u001b[39;00m \u001b[38;5;28mself\u001b[39m\u001b[38;5;241m.\u001b[39m_plot_args(\n\u001b[0;32m    297\u001b[0m     axes, this, kwargs, ambiguous_fmt_datakey\u001b[38;5;241m=\u001b[39mambiguous_fmt_datakey)\n",
      "File \u001b[1;32mc:\\Users\\Rowan\\anaconda3\\envs\\phas0102\\Lib\\site-packages\\matplotlib\\axes\\_base.py:486\u001b[0m, in \u001b[0;36m_process_plot_var_args._plot_args\u001b[1;34m(self, axes, tup, kwargs, return_kwargs, ambiguous_fmt_datakey)\u001b[0m\n\u001b[0;32m    483\u001b[0m     axes\u001b[38;5;241m.\u001b[39myaxis\u001b[38;5;241m.\u001b[39mupdate_units(y)\n\u001b[0;32m    485\u001b[0m \u001b[38;5;28;01mif\u001b[39;00m x\u001b[38;5;241m.\u001b[39mshape[\u001b[38;5;241m0\u001b[39m] \u001b[38;5;241m!=\u001b[39m y\u001b[38;5;241m.\u001b[39mshape[\u001b[38;5;241m0\u001b[39m]:\n\u001b[1;32m--> 486\u001b[0m     \u001b[38;5;28;01mraise\u001b[39;00m \u001b[38;5;167;01mValueError\u001b[39;00m(\u001b[38;5;124mf\u001b[39m\u001b[38;5;124m\"\u001b[39m\u001b[38;5;124mx and y must have same first dimension, but \u001b[39m\u001b[38;5;124m\"\u001b[39m\n\u001b[0;32m    487\u001b[0m                      \u001b[38;5;124mf\u001b[39m\u001b[38;5;124m\"\u001b[39m\u001b[38;5;124mhave shapes \u001b[39m\u001b[38;5;132;01m{\u001b[39;00mx\u001b[38;5;241m.\u001b[39mshape\u001b[38;5;132;01m}\u001b[39;00m\u001b[38;5;124m and \u001b[39m\u001b[38;5;132;01m{\u001b[39;00my\u001b[38;5;241m.\u001b[39mshape\u001b[38;5;132;01m}\u001b[39;00m\u001b[38;5;124m\"\u001b[39m)\n\u001b[0;32m    488\u001b[0m \u001b[38;5;28;01mif\u001b[39;00m x\u001b[38;5;241m.\u001b[39mndim \u001b[38;5;241m>\u001b[39m \u001b[38;5;241m2\u001b[39m \u001b[38;5;129;01mor\u001b[39;00m y\u001b[38;5;241m.\u001b[39mndim \u001b[38;5;241m>\u001b[39m \u001b[38;5;241m2\u001b[39m:\n\u001b[0;32m    489\u001b[0m     \u001b[38;5;28;01mraise\u001b[39;00m \u001b[38;5;167;01mValueError\u001b[39;00m(\u001b[38;5;124mf\u001b[39m\u001b[38;5;124m\"\u001b[39m\u001b[38;5;124mx and y can be no greater than 2D, but have \u001b[39m\u001b[38;5;124m\"\u001b[39m\n\u001b[0;32m    490\u001b[0m                      \u001b[38;5;124mf\u001b[39m\u001b[38;5;124m\"\u001b[39m\u001b[38;5;124mshapes \u001b[39m\u001b[38;5;132;01m{\u001b[39;00mx\u001b[38;5;241m.\u001b[39mshape\u001b[38;5;132;01m}\u001b[39;00m\u001b[38;5;124m and \u001b[39m\u001b[38;5;132;01m{\u001b[39;00my\u001b[38;5;241m.\u001b[39mshape\u001b[38;5;132;01m}\u001b[39;00m\u001b[38;5;124m\"\u001b[39m)\n",
      "\u001b[1;31mValueError\u001b[0m: x and y must have same first dimension, but have shapes (3,) and (1,)"
     ]
    },
    {
     "data": {
      "image/png": "[encoded data removed]",
      "text/plain": [
       "<Figure size 640x480 with 1 Axes>"
      ]
     },
     "metadata": {},
     "output_type": "display_data"
    }
   ],
   "source": [
    "plt.loglog(matrix_size, slow_times)\n",
    "plt.loglog(matrix_size, fast_times)\n",
    "\n",
    "plt.xlabel(\"Matrix sizes\")\n",
    "plt.ylabel(\"Time per call (s)\")\n",
    "plt.title(\"Matrix vector scaling\")\n",
    "plt.savefig(\"myplot.pdf\")"
   ]
  },
  {
   "cell_type": "code",
   "execution_count": null,
   "metadata": {},
   "outputs": [],
   "source": [
    "data = np.random.rand(10, 10)\n",
    "\n",
    "# np.save(\"my_results.npy\", data) saves data to a file so you can use it again, continue using it or resume calculations."
   ]
  }
 ],
 "metadata": {
  "kernelspec": {
   "display_name": "phas0102",
   "language": "python",
   "name": "python3"
  },
  "language_info": {
   "codemirror_mode": {
    "name": "ipython",
    "version": 3
   },
   "file_extension": ".py",
   "mimetype": "text/x-python",
   "name": "python",
   "nbconvert_exporter": "python",
   "pygments_lexer": "ipython3",
   "version": "3.12.7"
  }
 },
 "nbformat": 4,
 "nbformat_minor": 2
}
