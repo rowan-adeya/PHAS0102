{
 "cells": [
  {
   "cell_type": "code",
   "execution_count": 1,
   "id": "8ab5e4be-fe9d-4e60-af0e-1128001c6639",
   "metadata": {},
   "outputs": [],
   "source": [
    "import numpy as np"
   ]
  },
  {
   "cell_type": "code",
   "execution_count": 5,
   "id": "cf40ff46-2f7d-424e-93bc-370605d26fc8",
   "metadata": {},
   "outputs": [
    {
     "name": "stdout",
     "output_type": "stream",
     "text": [
      "[ 4.   5.   6.  16.1]\n"
     ]
    }
   ],
   "source": [
    "a = np.array([4,5,6,16.1], dtype=\"float64\")\n",
    "print(a)"
   ]
  },
  {
   "cell_type": "code",
   "execution_count": 6,
   "id": "cc87b00d-89db-407b-bfcf-b44844259f70",
   "metadata": {},
   "outputs": [],
   "source": [
    "a_ones = np.ones((10,10), dtype=np.float64)\n",
    "a_zeros = np.zeros((10,10,10), dtype=np.complex128)\n",
    "a_empty = np.empty"
   ]
  },
  {
   "cell_type": "code",
   "execution_count": null,
   "id": "24997738-43a5-4692-bed2-022abfa88bbe",
   "metadata": {},
   "outputs": [],
   "source": []
  }
 ],
 "metadata": {
  "kernelspec": {
   "display_name": "Python 3 (ipykernel)",
   "language": "python",
   "name": "python3"
  },
  "language_info": {
   "codemirror_mode": {
    "name": "ipython",
    "version": 3
   },
   "file_extension": ".py",
   "mimetype": "text/x-python",
   "name": "python",
   "nbconvert_exporter": "python",
   "pygments_lexer": "ipython3",
   "version": "3.12.7"
  }
 },
 "nbformat": 4,
 "nbformat_minor": 5
}
